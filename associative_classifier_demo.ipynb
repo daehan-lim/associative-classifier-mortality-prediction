{
 "cells": [
  {
   "cell_type": "code",
   "execution_count": 1,
   "metadata": {
    "collapsed": true,
    "ExecuteTime": {
     "end_time": "2024-07-29T14:42:59.154914400Z",
     "start_time": "2024-07-29T14:42:58.580914500Z"
    }
   },
   "outputs": [
    {
     "data": {
      "text/plain": "          0      1  ACETAMINOPHEN  ALBUMIN HUMAN 25%  ALBUMIN HUMAN 5%  \\\n0      True  False           True              False             False   \n1      True  False           True              False             False   \n2      True  False           True              False             False   \n3      True  False          False              False             False   \n4      True  False          False              False             False   \n...     ...    ...            ...                ...               ...   \n4610   True  False           True              False             False   \n4611   True  False          False              False             False   \n4612   True  False          False              False              True   \n4613  False   True          False              False             False   \n4614   True  False           True              False             False   \n\n      ALBUTEROL 0.083%  ALBUTEROL 90 MCG  ALBUTEROL CONCENTRATED 0.5%  \\\n0                False             False                        False   \n1                False              True                         True   \n2                False             False                        False   \n3                False             False                        False   \n4                False             False                        False   \n...                ...               ...                          ...   \n4610             False              True                         True   \n4611             False              True                         True   \n4612             False             False                        False   \n4613             False             False                         True   \n4614             False              True                         True   \n\n      ALLOPURINOL  ALPRAZOLAM  ...  TACROLIMUS  TAMSULOSIN  THIAMINE  \\\n0           False       False  ...       False       False      True   \n1           False       False  ...       False       False     False   \n2           False       False  ...       False       False     False   \n3           False       False  ...       False       False     False   \n4           False       False  ...       False       False     False   \n...           ...         ...  ...         ...         ...       ...   \n4610        False       False  ...       False       False     False   \n4611        False       False  ...       False       False     False   \n4612        False       False  ...       False       False      True   \n4613        False       False  ...       False       False     False   \n4614        False       False  ...       False       False     False   \n\n      TRAMADOL  TRAZODONE  VANCOMYCIN  VANCOMYCIN 1 G/200 ML D5W  \\\n0        False      False       False                      False   \n1        False      False       False                      False   \n2        False      False       False                      False   \n3        False      False       False                      False   \n4        False      False        True                      False   \n...        ...        ...         ...                        ...   \n4610      True       True       False                       True   \n4611     False      False        True                      False   \n4612     False      False        True                      False   \n4613     False      False       False                      False   \n4614     False      False        True                       True   \n\n      VANCOMYCIN 1.25 G/250 ML NS  VANCOMYCIN 1.5 G/500 ML NS  WARFARIN  \n0                           False                       False     False  \n1                           False                       False     False  \n2                           False                       False     False  \n3                           False                       False      True  \n4                           False                       False     False  \n...                           ...                         ...       ...  \n4610                         True                        True     False  \n4611                        False                       False     False  \n4612                        False                       False     False  \n4613                        False                       False     False  \n4614                         True                        True      True  \n\n[4615 rows x 149 columns]",
      "text/html": "<div>\n<style scoped>\n    .dataframe tbody tr th:only-of-type {\n        vertical-align: middle;\n    }\n\n    .dataframe tbody tr th {\n        vertical-align: top;\n    }\n\n    .dataframe thead th {\n        text-align: right;\n    }\n</style>\n<table border=\"1\" class=\"dataframe\">\n  <thead>\n    <tr style=\"text-align: right;\">\n      <th></th>\n      <th>0</th>\n      <th>1</th>\n      <th>ACETAMINOPHEN</th>\n      <th>ALBUMIN HUMAN 25%</th>\n      <th>ALBUMIN HUMAN 5%</th>\n      <th>ALBUTEROL 0.083%</th>\n      <th>ALBUTEROL 90 MCG</th>\n      <th>ALBUTEROL CONCENTRATED 0.5%</th>\n      <th>ALLOPURINOL</th>\n      <th>ALPRAZOLAM</th>\n      <th>...</th>\n      <th>TACROLIMUS</th>\n      <th>TAMSULOSIN</th>\n      <th>THIAMINE</th>\n      <th>TRAMADOL</th>\n      <th>TRAZODONE</th>\n      <th>VANCOMYCIN</th>\n      <th>VANCOMYCIN 1 G/200 ML D5W</th>\n      <th>VANCOMYCIN 1.25 G/250 ML NS</th>\n      <th>VANCOMYCIN 1.5 G/500 ML NS</th>\n      <th>WARFARIN</th>\n    </tr>\n  </thead>\n  <tbody>\n    <tr>\n      <th>0</th>\n      <td>True</td>\n      <td>False</td>\n      <td>True</td>\n      <td>False</td>\n      <td>False</td>\n      <td>False</td>\n      <td>False</td>\n      <td>False</td>\n      <td>False</td>\n      <td>False</td>\n      <td>...</td>\n      <td>False</td>\n      <td>False</td>\n      <td>True</td>\n      <td>False</td>\n      <td>False</td>\n      <td>False</td>\n      <td>False</td>\n      <td>False</td>\n      <td>False</td>\n      <td>False</td>\n    </tr>\n    <tr>\n      <th>1</th>\n      <td>True</td>\n      <td>False</td>\n      <td>True</td>\n      <td>False</td>\n      <td>False</td>\n      <td>False</td>\n      <td>True</td>\n      <td>True</td>\n      <td>False</td>\n      <td>False</td>\n      <td>...</td>\n      <td>False</td>\n      <td>False</td>\n      <td>False</td>\n      <td>False</td>\n      <td>False</td>\n      <td>False</td>\n      <td>False</td>\n      <td>False</td>\n      <td>False</td>\n      <td>False</td>\n    </tr>\n    <tr>\n      <th>2</th>\n      <td>True</td>\n      <td>False</td>\n      <td>True</td>\n      <td>False</td>\n      <td>False</td>\n      <td>False</td>\n      <td>False</td>\n      <td>False</td>\n      <td>False</td>\n      <td>False</td>\n      <td>...</td>\n      <td>False</td>\n      <td>False</td>\n      <td>False</td>\n      <td>False</td>\n      <td>False</td>\n      <td>False</td>\n      <td>False</td>\n      <td>False</td>\n      <td>False</td>\n      <td>False</td>\n    </tr>\n    <tr>\n      <th>3</th>\n      <td>True</td>\n      <td>False</td>\n      <td>False</td>\n      <td>False</td>\n      <td>False</td>\n      <td>False</td>\n      <td>False</td>\n      <td>False</td>\n      <td>False</td>\n      <td>False</td>\n      <td>...</td>\n      <td>False</td>\n      <td>False</td>\n      <td>False</td>\n      <td>False</td>\n      <td>False</td>\n      <td>False</td>\n      <td>False</td>\n      <td>False</td>\n      <td>False</td>\n      <td>True</td>\n    </tr>\n    <tr>\n      <th>4</th>\n      <td>True</td>\n      <td>False</td>\n      <td>False</td>\n      <td>False</td>\n      <td>False</td>\n      <td>False</td>\n      <td>False</td>\n      <td>False</td>\n      <td>False</td>\n      <td>False</td>\n      <td>...</td>\n      <td>False</td>\n      <td>False</td>\n      <td>False</td>\n      <td>False</td>\n      <td>False</td>\n      <td>True</td>\n      <td>False</td>\n      <td>False</td>\n      <td>False</td>\n      <td>False</td>\n    </tr>\n    <tr>\n      <th>...</th>\n      <td>...</td>\n      <td>...</td>\n      <td>...</td>\n      <td>...</td>\n      <td>...</td>\n      <td>...</td>\n      <td>...</td>\n      <td>...</td>\n      <td>...</td>\n      <td>...</td>\n      <td>...</td>\n      <td>...</td>\n      <td>...</td>\n      <td>...</td>\n      <td>...</td>\n      <td>...</td>\n      <td>...</td>\n      <td>...</td>\n      <td>...</td>\n      <td>...</td>\n      <td>...</td>\n    </tr>\n    <tr>\n      <th>4610</th>\n      <td>True</td>\n      <td>False</td>\n      <td>True</td>\n      <td>False</td>\n      <td>False</td>\n      <td>False</td>\n      <td>True</td>\n      <td>True</td>\n      <td>False</td>\n      <td>False</td>\n      <td>...</td>\n      <td>False</td>\n      <td>False</td>\n      <td>False</td>\n      <td>True</td>\n      <td>True</td>\n      <td>False</td>\n      <td>True</td>\n      <td>True</td>\n      <td>True</td>\n      <td>False</td>\n    </tr>\n    <tr>\n      <th>4611</th>\n      <td>True</td>\n      <td>False</td>\n      <td>False</td>\n      <td>False</td>\n      <td>False</td>\n      <td>False</td>\n      <td>True</td>\n      <td>True</td>\n      <td>False</td>\n      <td>False</td>\n      <td>...</td>\n      <td>False</td>\n      <td>False</td>\n      <td>False</td>\n      <td>False</td>\n      <td>False</td>\n      <td>True</td>\n      <td>False</td>\n      <td>False</td>\n      <td>False</td>\n      <td>False</td>\n    </tr>\n    <tr>\n      <th>4612</th>\n      <td>True</td>\n      <td>False</td>\n      <td>False</td>\n      <td>False</td>\n      <td>True</td>\n      <td>False</td>\n      <td>False</td>\n      <td>False</td>\n      <td>False</td>\n      <td>False</td>\n      <td>...</td>\n      <td>False</td>\n      <td>False</td>\n      <td>True</td>\n      <td>False</td>\n      <td>False</td>\n      <td>True</td>\n      <td>False</td>\n      <td>False</td>\n      <td>False</td>\n      <td>False</td>\n    </tr>\n    <tr>\n      <th>4613</th>\n      <td>False</td>\n      <td>True</td>\n      <td>False</td>\n      <td>False</td>\n      <td>False</td>\n      <td>False</td>\n      <td>False</td>\n      <td>True</td>\n      <td>False</td>\n      <td>False</td>\n      <td>...</td>\n      <td>False</td>\n      <td>False</td>\n      <td>False</td>\n      <td>False</td>\n      <td>False</td>\n      <td>False</td>\n      <td>False</td>\n      <td>False</td>\n      <td>False</td>\n      <td>False</td>\n    </tr>\n    <tr>\n      <th>4614</th>\n      <td>True</td>\n      <td>False</td>\n      <td>True</td>\n      <td>False</td>\n      <td>False</td>\n      <td>False</td>\n      <td>True</td>\n      <td>True</td>\n      <td>False</td>\n      <td>False</td>\n      <td>...</td>\n      <td>False</td>\n      <td>False</td>\n      <td>False</td>\n      <td>False</td>\n      <td>False</td>\n      <td>True</td>\n      <td>True</td>\n      <td>True</td>\n      <td>True</td>\n      <td>True</td>\n    </tr>\n  </tbody>\n</table>\n<p>4615 rows × 149 columns</p>\n</div>"
     },
     "execution_count": 1,
     "metadata": {},
     "output_type": "execute_result"
    }
   ],
   "source": [
    "from mlxtend.preprocessing import TransactionEncoder\n",
    "import random\n",
    "import pandas as pd\n",
    "from sklearn.metrics import roc_auc_score\n",
    "import csv\n",
    "import numpy as np\n",
    "\n",
    "with open('data/dataset.csv', 'r') as file:\n",
    "    dataset = [list(filter(None, row)) for row in csv.reader(file)]\n",
    "\n",
    "min_support = 0.2\n",
    "te = TransactionEncoder()\n",
    "te_ary = te.fit_transform(dataset)\n",
    "transactions_df = pd.DataFrame(te_ary, columns=te.columns_)\n",
    "transactions_df"
   ]
  },
  {
   "cell_type": "code",
   "execution_count": 2,
   "outputs": [],
   "source": [
    "random.seed(0)\n",
    "transactions_0 = pd.DataFrame(\n",
    "    transactions_df[transactions_df['0']].reset_index(drop=True))\n",
    "transactions_1 = pd.DataFrame(\n",
    "    transactions_df[transactions_df['1']].reset_index(drop=True))"
   ],
   "metadata": {
    "collapsed": false,
    "ExecuteTime": {
     "end_time": "2024-07-29T14:43:01.686481400Z",
     "start_time": "2024-07-29T14:43:01.680482700Z"
    }
   }
  },
  {
   "cell_type": "code",
   "execution_count": 3,
   "outputs": [
    {
     "data": {
      "text/plain": "         0      1  ACETAMINOPHEN  ALBUMIN HUMAN 25%  ALBUMIN HUMAN 5%  \\\n0     True  False          False              False             False   \n1     True  False           True              False             False   \n2     True  False           True              False             False   \n3     True  False           True              False             False   \n4     True  False           True              False             False   \n..     ...    ...            ...                ...               ...   \n388  False   True           True              False             False   \n389  False   True           True              False             False   \n390  False   True          False              False             False   \n391  False   True           True              False             False   \n392  False   True           True              False             False   \n\n     ALBUTEROL 0.083%  ALBUTEROL 90 MCG  ALBUTEROL CONCENTRATED 0.5%  \\\n0               False             False                        False   \n1               False             False                        False   \n2               False              True                         True   \n3               False             False                        False   \n4               False              True                         True   \n..                ...               ...                          ...   \n388             False              True                         True   \n389             False              True                         True   \n390             False             False                        False   \n391             False             False                        False   \n392             False             False                        False   \n\n     ALLOPURINOL  ALPRAZOLAM  ...  TACROLIMUS  TAMSULOSIN  THIAMINE  TRAMADOL  \\\n0          False       False  ...       False       False      True     False   \n1          False       False  ...       False       False      True     False   \n2          False       False  ...       False        True     False     False   \n3          False       False  ...       False       False     False     False   \n4          False       False  ...       False       False     False     False   \n..           ...         ...  ...         ...         ...       ...       ...   \n388        False       False  ...       False       False     False     False   \n389        False       False  ...       False       False     False     False   \n390        False       False  ...       False       False     False     False   \n391        False       False  ...       False       False     False     False   \n392        False       False  ...       False       False     False     False   \n\n     TRAZODONE  VANCOMYCIN  VANCOMYCIN 1 G/200 ML D5W  \\\n0        False        True                       True   \n1        False       False                      False   \n2        False       False                       True   \n3        False       False                      False   \n4        False       False                      False   \n..         ...         ...                        ...   \n388      False        True                      False   \n389      False       False                       True   \n390      False       False                       True   \n391      False       False                      False   \n392      False       False                      False   \n\n     VANCOMYCIN 1.25 G/250 ML NS  VANCOMYCIN 1.5 G/500 ML NS  WARFARIN  \n0                           True                       False     False  \n1                          False                       False     False  \n2                           True                       False     False  \n3                          False                       False     False  \n4                          False                       False     False  \n..                           ...                         ...       ...  \n388                        False                       False     False  \n389                         True                       False     False  \n390                        False                       False     False  \n391                        False                       False     False  \n392                        False                       False     False  \n\n[4155 rows x 149 columns]",
      "text/html": "<div>\n<style scoped>\n    .dataframe tbody tr th:only-of-type {\n        vertical-align: middle;\n    }\n\n    .dataframe tbody tr th {\n        vertical-align: top;\n    }\n\n    .dataframe thead th {\n        text-align: right;\n    }\n</style>\n<table border=\"1\" class=\"dataframe\">\n  <thead>\n    <tr style=\"text-align: right;\">\n      <th></th>\n      <th>0</th>\n      <th>1</th>\n      <th>ACETAMINOPHEN</th>\n      <th>ALBUMIN HUMAN 25%</th>\n      <th>ALBUMIN HUMAN 5%</th>\n      <th>ALBUTEROL 0.083%</th>\n      <th>ALBUTEROL 90 MCG</th>\n      <th>ALBUTEROL CONCENTRATED 0.5%</th>\n      <th>ALLOPURINOL</th>\n      <th>ALPRAZOLAM</th>\n      <th>...</th>\n      <th>TACROLIMUS</th>\n      <th>TAMSULOSIN</th>\n      <th>THIAMINE</th>\n      <th>TRAMADOL</th>\n      <th>TRAZODONE</th>\n      <th>VANCOMYCIN</th>\n      <th>VANCOMYCIN 1 G/200 ML D5W</th>\n      <th>VANCOMYCIN 1.25 G/250 ML NS</th>\n      <th>VANCOMYCIN 1.5 G/500 ML NS</th>\n      <th>WARFARIN</th>\n    </tr>\n  </thead>\n  <tbody>\n    <tr>\n      <th>0</th>\n      <td>True</td>\n      <td>False</td>\n      <td>False</td>\n      <td>False</td>\n      <td>False</td>\n      <td>False</td>\n      <td>False</td>\n      <td>False</td>\n      <td>False</td>\n      <td>False</td>\n      <td>...</td>\n      <td>False</td>\n      <td>False</td>\n      <td>True</td>\n      <td>False</td>\n      <td>False</td>\n      <td>True</td>\n      <td>True</td>\n      <td>True</td>\n      <td>False</td>\n      <td>False</td>\n    </tr>\n    <tr>\n      <th>1</th>\n      <td>True</td>\n      <td>False</td>\n      <td>True</td>\n      <td>False</td>\n      <td>False</td>\n      <td>False</td>\n      <td>False</td>\n      <td>False</td>\n      <td>False</td>\n      <td>False</td>\n      <td>...</td>\n      <td>False</td>\n      <td>False</td>\n      <td>True</td>\n      <td>False</td>\n      <td>False</td>\n      <td>False</td>\n      <td>False</td>\n      <td>False</td>\n      <td>False</td>\n      <td>False</td>\n    </tr>\n    <tr>\n      <th>2</th>\n      <td>True</td>\n      <td>False</td>\n      <td>True</td>\n      <td>False</td>\n      <td>False</td>\n      <td>False</td>\n      <td>True</td>\n      <td>True</td>\n      <td>False</td>\n      <td>False</td>\n      <td>...</td>\n      <td>False</td>\n      <td>True</td>\n      <td>False</td>\n      <td>False</td>\n      <td>False</td>\n      <td>False</td>\n      <td>True</td>\n      <td>True</td>\n      <td>False</td>\n      <td>False</td>\n    </tr>\n    <tr>\n      <th>3</th>\n      <td>True</td>\n      <td>False</td>\n      <td>True</td>\n      <td>False</td>\n      <td>False</td>\n      <td>False</td>\n      <td>False</td>\n      <td>False</td>\n      <td>False</td>\n      <td>False</td>\n      <td>...</td>\n      <td>False</td>\n      <td>False</td>\n      <td>False</td>\n      <td>False</td>\n      <td>False</td>\n      <td>False</td>\n      <td>False</td>\n      <td>False</td>\n      <td>False</td>\n      <td>False</td>\n    </tr>\n    <tr>\n      <th>4</th>\n      <td>True</td>\n      <td>False</td>\n      <td>True</td>\n      <td>False</td>\n      <td>False</td>\n      <td>False</td>\n      <td>True</td>\n      <td>True</td>\n      <td>False</td>\n      <td>False</td>\n      <td>...</td>\n      <td>False</td>\n      <td>False</td>\n      <td>False</td>\n      <td>False</td>\n      <td>False</td>\n      <td>False</td>\n      <td>False</td>\n      <td>False</td>\n      <td>False</td>\n      <td>False</td>\n    </tr>\n    <tr>\n      <th>...</th>\n      <td>...</td>\n      <td>...</td>\n      <td>...</td>\n      <td>...</td>\n      <td>...</td>\n      <td>...</td>\n      <td>...</td>\n      <td>...</td>\n      <td>...</td>\n      <td>...</td>\n      <td>...</td>\n      <td>...</td>\n      <td>...</td>\n      <td>...</td>\n      <td>...</td>\n      <td>...</td>\n      <td>...</td>\n      <td>...</td>\n      <td>...</td>\n      <td>...</td>\n      <td>...</td>\n    </tr>\n    <tr>\n      <th>388</th>\n      <td>False</td>\n      <td>True</td>\n      <td>True</td>\n      <td>False</td>\n      <td>False</td>\n      <td>False</td>\n      <td>True</td>\n      <td>True</td>\n      <td>False</td>\n      <td>False</td>\n      <td>...</td>\n      <td>False</td>\n      <td>False</td>\n      <td>False</td>\n      <td>False</td>\n      <td>False</td>\n      <td>True</td>\n      <td>False</td>\n      <td>False</td>\n      <td>False</td>\n      <td>False</td>\n    </tr>\n    <tr>\n      <th>389</th>\n      <td>False</td>\n      <td>True</td>\n      <td>True</td>\n      <td>False</td>\n      <td>False</td>\n      <td>False</td>\n      <td>True</td>\n      <td>True</td>\n      <td>False</td>\n      <td>False</td>\n      <td>...</td>\n      <td>False</td>\n      <td>False</td>\n      <td>False</td>\n      <td>False</td>\n      <td>False</td>\n      <td>False</td>\n      <td>True</td>\n      <td>True</td>\n      <td>False</td>\n      <td>False</td>\n    </tr>\n    <tr>\n      <th>390</th>\n      <td>False</td>\n      <td>True</td>\n      <td>False</td>\n      <td>False</td>\n      <td>False</td>\n      <td>False</td>\n      <td>False</td>\n      <td>False</td>\n      <td>False</td>\n      <td>False</td>\n      <td>...</td>\n      <td>False</td>\n      <td>False</td>\n      <td>False</td>\n      <td>False</td>\n      <td>False</td>\n      <td>False</td>\n      <td>True</td>\n      <td>False</td>\n      <td>False</td>\n      <td>False</td>\n    </tr>\n    <tr>\n      <th>391</th>\n      <td>False</td>\n      <td>True</td>\n      <td>True</td>\n      <td>False</td>\n      <td>False</td>\n      <td>False</td>\n      <td>False</td>\n      <td>False</td>\n      <td>False</td>\n      <td>False</td>\n      <td>...</td>\n      <td>False</td>\n      <td>False</td>\n      <td>False</td>\n      <td>False</td>\n      <td>False</td>\n      <td>False</td>\n      <td>False</td>\n      <td>False</td>\n      <td>False</td>\n      <td>False</td>\n    </tr>\n    <tr>\n      <th>392</th>\n      <td>False</td>\n      <td>True</td>\n      <td>True</td>\n      <td>False</td>\n      <td>False</td>\n      <td>False</td>\n      <td>False</td>\n      <td>False</td>\n      <td>False</td>\n      <td>False</td>\n      <td>...</td>\n      <td>False</td>\n      <td>False</td>\n      <td>False</td>\n      <td>False</td>\n      <td>False</td>\n      <td>False</td>\n      <td>False</td>\n      <td>False</td>\n      <td>False</td>\n      <td>False</td>\n    </tr>\n  </tbody>\n</table>\n<p>4155 rows × 149 columns</p>\n</div>"
     },
     "execution_count": 3,
     "metadata": {},
     "output_type": "execute_result"
    }
   ],
   "source": [
    "indices = list(range(0, len(transactions_0)))\n",
    "random.shuffle(indices)\n",
    "test_set_0 = transactions_0.iloc[indices[:417], :].reset_index(drop=True)\n",
    "training_set_0 = transactions_0.iloc[indices[417:], :].reset_index(drop=True)\n",
    "\n",
    "indices = list(range(0, len(transactions_1)))\n",
    "random.shuffle(indices)\n",
    "test_set_1 = transactions_1.iloc[indices[:43], :].reset_index(drop=True)\n",
    "training_set_1 = transactions_1.iloc[indices[43:], :].reset_index(drop=True)\n",
    "\n",
    "training_set = pd.concat([training_set_0, training_set_1])\n",
    "test_set = pd.concat([test_set_0, test_set_1])\n",
    "training_set"
   ],
   "metadata": {
    "collapsed": false,
    "ExecuteTime": {
     "end_time": "2024-07-29T14:43:03.655065400Z",
     "start_time": "2024-07-29T14:43:03.628066700Z"
    }
   }
  },
  {
   "cell_type": "code",
   "execution_count": 4,
   "outputs": [
    {
     "data": {
      "text/plain": "        0      1  ACETAMINOPHEN  ALBUMIN HUMAN 25%  ALBUMIN HUMAN 5%  \\\n0    True  False          False               True             False   \n1    True  False          False              False             False   \n2    True  False          False              False             False   \n3    True  False           True              False             False   \n4    True  False           True              False             False   \n..    ...    ...            ...                ...               ...   \n38  False   True           True              False             False   \n39  False   True          False              False             False   \n40  False   True          False              False             False   \n41  False   True           True               True             False   \n42  False   True           True               True             False   \n\n    ALBUTEROL 0.083%  ALBUTEROL 90 MCG  ALBUTEROL CONCENTRATED 0.5%  \\\n0              False             False                        False   \n1              False             False                        False   \n2              False             False                        False   \n3              False              True                         True   \n4              False              True                         True   \n..               ...               ...                          ...   \n38             False             False                        False   \n39             False              True                         True   \n40             False              True                        False   \n41             False             False                         True   \n42             False             False                         True   \n\n    ALLOPURINOL  ALPRAZOLAM  ...  TACROLIMUS  TAMSULOSIN  THIAMINE  TRAMADOL  \\\n0         False       False  ...       False       False     False     False   \n1         False       False  ...       False       False     False     False   \n2         False       False  ...       False       False     False     False   \n3         False       False  ...       False       False     False     False   \n4         False       False  ...       False       False     False      True   \n..          ...         ...  ...         ...         ...       ...       ...   \n38        False       False  ...       False       False     False     False   \n39        False       False  ...       False       False     False     False   \n40        False       False  ...       False       False     False     False   \n41        False       False  ...       False       False      True     False   \n42        False       False  ...       False        True     False     False   \n\n    TRAZODONE  VANCOMYCIN  VANCOMYCIN 1 G/200 ML D5W  \\\n0       False       False                      False   \n1       False        True                      False   \n2       False       False                      False   \n3       False       False                      False   \n4        True       False                      False   \n..        ...         ...                        ...   \n38      False       False                       True   \n39      False       False                      False   \n40      False       False                      False   \n41      False       False                       True   \n42      False        True                       True   \n\n    VANCOMYCIN 1.25 G/250 ML NS  VANCOMYCIN 1.5 G/500 ML NS  WARFARIN  \n0                         False                       False     False  \n1                         False                       False      True  \n2                         False                       False     False  \n3                         False                       False     False  \n4                         False                       False     False  \n..                          ...                         ...       ...  \n38                         True                       False     False  \n39                         True                       False     False  \n40                        False                       False     False  \n41                        False                       False     False  \n42                        False                       False     False  \n\n[460 rows x 149 columns]",
      "text/html": "<div>\n<style scoped>\n    .dataframe tbody tr th:only-of-type {\n        vertical-align: middle;\n    }\n\n    .dataframe tbody tr th {\n        vertical-align: top;\n    }\n\n    .dataframe thead th {\n        text-align: right;\n    }\n</style>\n<table border=\"1\" class=\"dataframe\">\n  <thead>\n    <tr style=\"text-align: right;\">\n      <th></th>\n      <th>0</th>\n      <th>1</th>\n      <th>ACETAMINOPHEN</th>\n      <th>ALBUMIN HUMAN 25%</th>\n      <th>ALBUMIN HUMAN 5%</th>\n      <th>ALBUTEROL 0.083%</th>\n      <th>ALBUTEROL 90 MCG</th>\n      <th>ALBUTEROL CONCENTRATED 0.5%</th>\n      <th>ALLOPURINOL</th>\n      <th>ALPRAZOLAM</th>\n      <th>...</th>\n      <th>TACROLIMUS</th>\n      <th>TAMSULOSIN</th>\n      <th>THIAMINE</th>\n      <th>TRAMADOL</th>\n      <th>TRAZODONE</th>\n      <th>VANCOMYCIN</th>\n      <th>VANCOMYCIN 1 G/200 ML D5W</th>\n      <th>VANCOMYCIN 1.25 G/250 ML NS</th>\n      <th>VANCOMYCIN 1.5 G/500 ML NS</th>\n      <th>WARFARIN</th>\n    </tr>\n  </thead>\n  <tbody>\n    <tr>\n      <th>0</th>\n      <td>True</td>\n      <td>False</td>\n      <td>False</td>\n      <td>True</td>\n      <td>False</td>\n      <td>False</td>\n      <td>False</td>\n      <td>False</td>\n      <td>False</td>\n      <td>False</td>\n      <td>...</td>\n      <td>False</td>\n      <td>False</td>\n      <td>False</td>\n      <td>False</td>\n      <td>False</td>\n      <td>False</td>\n      <td>False</td>\n      <td>False</td>\n      <td>False</td>\n      <td>False</td>\n    </tr>\n    <tr>\n      <th>1</th>\n      <td>True</td>\n      <td>False</td>\n      <td>False</td>\n      <td>False</td>\n      <td>False</td>\n      <td>False</td>\n      <td>False</td>\n      <td>False</td>\n      <td>False</td>\n      <td>False</td>\n      <td>...</td>\n      <td>False</td>\n      <td>False</td>\n      <td>False</td>\n      <td>False</td>\n      <td>False</td>\n      <td>True</td>\n      <td>False</td>\n      <td>False</td>\n      <td>False</td>\n      <td>True</td>\n    </tr>\n    <tr>\n      <th>2</th>\n      <td>True</td>\n      <td>False</td>\n      <td>False</td>\n      <td>False</td>\n      <td>False</td>\n      <td>False</td>\n      <td>False</td>\n      <td>False</td>\n      <td>False</td>\n      <td>False</td>\n      <td>...</td>\n      <td>False</td>\n      <td>False</td>\n      <td>False</td>\n      <td>False</td>\n      <td>False</td>\n      <td>False</td>\n      <td>False</td>\n      <td>False</td>\n      <td>False</td>\n      <td>False</td>\n    </tr>\n    <tr>\n      <th>3</th>\n      <td>True</td>\n      <td>False</td>\n      <td>True</td>\n      <td>False</td>\n      <td>False</td>\n      <td>False</td>\n      <td>True</td>\n      <td>True</td>\n      <td>False</td>\n      <td>False</td>\n      <td>...</td>\n      <td>False</td>\n      <td>False</td>\n      <td>False</td>\n      <td>False</td>\n      <td>False</td>\n      <td>False</td>\n      <td>False</td>\n      <td>False</td>\n      <td>False</td>\n      <td>False</td>\n    </tr>\n    <tr>\n      <th>4</th>\n      <td>True</td>\n      <td>False</td>\n      <td>True</td>\n      <td>False</td>\n      <td>False</td>\n      <td>False</td>\n      <td>True</td>\n      <td>True</td>\n      <td>False</td>\n      <td>False</td>\n      <td>...</td>\n      <td>False</td>\n      <td>False</td>\n      <td>False</td>\n      <td>True</td>\n      <td>True</td>\n      <td>False</td>\n      <td>False</td>\n      <td>False</td>\n      <td>False</td>\n      <td>False</td>\n    </tr>\n    <tr>\n      <th>...</th>\n      <td>...</td>\n      <td>...</td>\n      <td>...</td>\n      <td>...</td>\n      <td>...</td>\n      <td>...</td>\n      <td>...</td>\n      <td>...</td>\n      <td>...</td>\n      <td>...</td>\n      <td>...</td>\n      <td>...</td>\n      <td>...</td>\n      <td>...</td>\n      <td>...</td>\n      <td>...</td>\n      <td>...</td>\n      <td>...</td>\n      <td>...</td>\n      <td>...</td>\n      <td>...</td>\n    </tr>\n    <tr>\n      <th>38</th>\n      <td>False</td>\n      <td>True</td>\n      <td>True</td>\n      <td>False</td>\n      <td>False</td>\n      <td>False</td>\n      <td>False</td>\n      <td>False</td>\n      <td>False</td>\n      <td>False</td>\n      <td>...</td>\n      <td>False</td>\n      <td>False</td>\n      <td>False</td>\n      <td>False</td>\n      <td>False</td>\n      <td>False</td>\n      <td>True</td>\n      <td>True</td>\n      <td>False</td>\n      <td>False</td>\n    </tr>\n    <tr>\n      <th>39</th>\n      <td>False</td>\n      <td>True</td>\n      <td>False</td>\n      <td>False</td>\n      <td>False</td>\n      <td>False</td>\n      <td>True</td>\n      <td>True</td>\n      <td>False</td>\n      <td>False</td>\n      <td>...</td>\n      <td>False</td>\n      <td>False</td>\n      <td>False</td>\n      <td>False</td>\n      <td>False</td>\n      <td>False</td>\n      <td>False</td>\n      <td>True</td>\n      <td>False</td>\n      <td>False</td>\n    </tr>\n    <tr>\n      <th>40</th>\n      <td>False</td>\n      <td>True</td>\n      <td>False</td>\n      <td>False</td>\n      <td>False</td>\n      <td>False</td>\n      <td>True</td>\n      <td>False</td>\n      <td>False</td>\n      <td>False</td>\n      <td>...</td>\n      <td>False</td>\n      <td>False</td>\n      <td>False</td>\n      <td>False</td>\n      <td>False</td>\n      <td>False</td>\n      <td>False</td>\n      <td>False</td>\n      <td>False</td>\n      <td>False</td>\n    </tr>\n    <tr>\n      <th>41</th>\n      <td>False</td>\n      <td>True</td>\n      <td>True</td>\n      <td>True</td>\n      <td>False</td>\n      <td>False</td>\n      <td>False</td>\n      <td>True</td>\n      <td>False</td>\n      <td>False</td>\n      <td>...</td>\n      <td>False</td>\n      <td>False</td>\n      <td>True</td>\n      <td>False</td>\n      <td>False</td>\n      <td>False</td>\n      <td>True</td>\n      <td>False</td>\n      <td>False</td>\n      <td>False</td>\n    </tr>\n    <tr>\n      <th>42</th>\n      <td>False</td>\n      <td>True</td>\n      <td>True</td>\n      <td>True</td>\n      <td>False</td>\n      <td>False</td>\n      <td>False</td>\n      <td>True</td>\n      <td>False</td>\n      <td>False</td>\n      <td>...</td>\n      <td>False</td>\n      <td>True</td>\n      <td>False</td>\n      <td>False</td>\n      <td>False</td>\n      <td>True</td>\n      <td>True</td>\n      <td>False</td>\n      <td>False</td>\n      <td>False</td>\n    </tr>\n  </tbody>\n</table>\n<p>460 rows × 149 columns</p>\n</div>"
     },
     "execution_count": 4,
     "metadata": {},
     "output_type": "execute_result"
    }
   ],
   "source": [
    "test_set"
   ],
   "metadata": {
    "collapsed": false,
    "ExecuteTime": {
     "end_time": "2024-07-29T14:43:04.807554400Z",
     "start_time": "2024-07-29T14:43:04.779554400Z"
    }
   }
  },
  {
   "cell_type": "code",
   "execution_count": 7,
   "outputs": [
    {
     "data": {
      "text/plain": "array([[frozenset({'ACETAMINOPHEN'})],\n       [frozenset({'ALBUTEROL 90 MCG'})],\n       [frozenset({'ALBUTEROL CONCENTRATED 0.5%'})],\n       [frozenset({\"ASPIRIN, CHILDREN'S\"})],\n       [frozenset({'ATORVASTATIN'})],\n       [frozenset({'BISACODYL'})],\n       [frozenset({'CALCIUM GLUCONATE 2 G/50 ML NS'})],\n       [frozenset({'CEFTRIAXONE'})],\n       [frozenset({'DEXTROSE 5%-NACL 0.9%'})],\n       [frozenset({'DEXTROSE 50%-WATER'})],\n       [frozenset({'DOCUSATE SODIUM'})],\n       [frozenset({'ENOXAPARIN'})],\n       [frozenset({'FAMOTIDINE'})],\n       [frozenset({'FENTANYL 2000 MCG/100 ML NS'})],\n       [frozenset({'FENTANYL CITRATE (PF)'})],\n       [frozenset({'FUROSEMIDE'})],\n       [frozenset({'GLUCAGON'})],\n       [frozenset({'GLUCOSE'})],\n       [frozenset({'HEPARIN 5,000 UNIT/ML'})],\n       [frozenset({'INSULIN ASPART'})],\n       [frozenset({'INSULIN LISPRO'})],\n       [frozenset({'INSULIN REG 100 UNITS/100 ML'})],\n       [frozenset({'IPRATROPIUM 0.02%'})],\n       [frozenset({'KCL 20 MEQ/50 ML'})],\n       [frozenset({'LORAZEPAM'})],\n       [frozenset({'MAGNESIUM SULF 2 G/50 ML NS'})],\n       [frozenset({'METOPROLOL TARTRATE'})],\n       [frozenset({'MIDAZOLAM'})],\n       [frozenset({'MORPHINE'})],\n       [frozenset({'NOREPINEPHRINE 4 MG/250 ML NS'})],\n       [frozenset({'ONDANSETRON'})],\n       [frozenset({'OXYCODONE IR'})],\n       [frozenset({'PANTOPRAZOLE'})],\n       [frozenset({'PHENYLEPHRINE 10 MG/250 ML NS'})],\n       [frozenset({'PIPERACILLIN/TAZOBACTAM'})],\n       [frozenset({'POTASSIUM CHLORIDE'})],\n       [frozenset({'POTASSIUM CHLORIDE ER'})],\n       [frozenset({'POTASSIUM PHOSPHATE'})],\n       [frozenset({'PROPOFOL 10 MG/ML'})],\n       [frozenset({'RINGERS SOLUTION,LACTATED'})],\n       [frozenset({'SENNOSIDES'})],\n       [frozenset({'SODIUM CHLORIDE 0.9%'})],\n       [frozenset({'VANCOMYCIN'})],\n       [frozenset({'VANCOMYCIN 1 G/200 ML D5W'})]], dtype=object)"
     },
     "execution_count": 7,
     "metadata": {},
     "output_type": "execute_result"
    }
   ],
   "source": [
    "import pandas as pd\n",
    "import apriori_mlx\n",
    "\n",
    "def get_item_support_count_df(itemset: frozenset, df, negated=False):\n",
    "    subset = df[list(itemset)] if negated is False else ~df[list(itemset)]\n",
    "    support = subset.all(axis=1).sum()\n",
    "    return support\n",
    "\n",
    "def get_support_count_dict_df(ck, transactions_df):\n",
    "    item_support_count = {}\n",
    "    for item in ck:\n",
    "        item_support_count[item] = get_item_support_count_df(item, transactions_df)\n",
    "    return item_support_count\n",
    "\n",
    "def get_rules_per_item(itemset, classes, class_supp_count_dict, transactions_df):\n",
    "    rules = []\n",
    "    cls0 = get_item_support_count_df(itemset | classes[0], transactions_df) / class_supp_count_dict[classes[0]]\n",
    "    cls1 = get_item_support_count_df(itemset | classes[1], transactions_df) / class_supp_count_dict[classes[1]]\n",
    "    if cls0 >= cls1:\n",
    "        rules.append({'antecedent': itemset, 'consequent': '0', 'confidence': 1 - cls1 / cls0})\n",
    "    else:\n",
    "        rules.append({'antecedent': itemset, 'consequent': '1', 'confidence': 1 - cls0 / cls1})\n",
    "    return rules\n",
    "\n",
    "rules = []\n",
    "transactions_df = training_set\n",
    "X_df = pd.DataFrame(transactions_df.drop(['1', '0'], axis=1))\n",
    "classes = [frozenset(['0']), frozenset(['1'])]\n",
    "class_support_count_dict = get_support_count_dict_df(classes, transactions_df)\n",
    "\n",
    "f1, previous_itemset_arr = apriori_mlx.apriori_of_size_1(X_df, min_support=min_support)\n",
    "f1 = f1.tolist()\n",
    "freq_itemsets = [f1]\n",
    "for item in f1:\n",
    "    rules.extend(get_rules_per_item(item, classes, class_support_count_dict, transactions_df))\n",
    "np.expand_dims(np.array(np.array(f1)), axis=1)"
   ],
   "metadata": {
    "collapsed": false,
    "ExecuteTime": {
     "end_time": "2024-07-29T15:17:33.672436400Z",
     "start_time": "2024-07-29T15:17:33.638436700Z"
    }
   }
  },
  {
   "cell_type": "code",
   "execution_count": 8,
   "outputs": [
    {
     "name": "stdout",
     "output_type": "stream",
     "text": [
      "\n",
      "Processing time of rule_gen(): 0.74 seconds (0.01 minutes).\n"
     ]
    },
    {
     "data": {
      "text/plain": "array([[{'antecedent': frozenset({'ACETAMINOPHEN'}), 'consequent': '0', 'confidence': 0.2569277423402698}],\n       [{'antecedent': frozenset({'ALBUTEROL 90 MCG'}), 'consequent': '1', 'confidence': 0.15285730471235215}],\n       [{'antecedent': frozenset({'ALBUTEROL CONCENTRATED 0.5%'}), 'consequent': '1', 'confidence': 0.20172429358129462}],\n       ...,\n       [{'antecedent': frozenset({'FENTANYL CITRATE (PF)', 'MIDAZOLAM', 'SODIUM CHLORIDE 0.9%', 'MAGNESIUM SULF 2 G/50 ML NS', 'DEXTROSE 50%-WATER'}), 'consequent': '1', 'confidence': 0.4868122009569378}],\n       [{'antecedent': frozenset({'MAGNESIUM SULF 2 G/50 ML NS', 'GLUCOSE', 'HEPARIN 5,000 UNIT/ML', 'DEXTROSE 50%-WATER', 'GLUCAGON'}), 'consequent': '0', 'confidence': 0.7460577405636705}],\n       [{'antecedent': frozenset({'SODIUM CHLORIDE 0.9%', 'MAGNESIUM SULF 2 G/50 ML NS', 'GLUCOSE', 'DEXTROSE 50%-WATER', 'GLUCAGON'}), 'consequent': '0', 'confidence': 0.6682790416446225}]],\n      dtype=object)"
     },
     "execution_count": 8,
     "metadata": {},
     "output_type": "execute_result"
    }
   ],
   "source": [
    "import time\n",
    "\n",
    "start_time = time.time()\n",
    "k = 0\n",
    "while freq_itemsets[k] is not None and len(freq_itemsets[k]) > 0:\n",
    "    k_freq_itemsets, previous_itemset_arr = apriori_mlx.apriori_of_size_k(\n",
    "        X_df, previous_itemset_arr, min_support=min_support, k=k + 2, low_memory=True)\n",
    "    if not k_freq_itemsets.empty:\n",
    "        k_freq_itemsets = k_freq_itemsets.tolist()\n",
    "        for item in k_freq_itemsets:\n",
    "            rules.extend(get_rules_per_item(item, classes, class_support_count_dict, transactions_df))\n",
    "        # with multiprocessing.Pool() as pool:\n",
    "        #     result = pool.map(ponerg_parallel, k_freq_itemsets)\n",
    "        # rules_to_extend = [x[0] for x in result if x != []]\n",
    "        # rules.extend(rules_to_extend)\n",
    "        freq_itemsets.append(k_freq_itemsets)\n",
    "    else:\n",
    "        freq_itemsets.append(None)\n",
    "    k += 1\n",
    "time_sec = time.time() - start_time\n",
    "time_min = time_sec / 60\n",
    "print(\"\\nProcessing time of %s(): %.2f seconds (%.2f minutes).\"\n",
    "      % (\"rule_gen\", time.time() - start_time, time_min))\n",
    "np.expand_dims(np.array(np.array(rules)), axis=1)"
   ],
   "metadata": {
    "collapsed": false,
    "ExecuteTime": {
     "end_time": "2024-07-29T15:17:37.121352700Z",
     "start_time": "2024-07-29T15:17:36.375352600Z"
    }
   }
  },
  {
   "cell_type": "code",
   "execution_count": 9,
   "outputs": [
    {
     "data": {
      "text/plain": "array([[{'antecedent': frozenset({'POTASSIUM CHLORIDE ER', 'OXYCODONE IR'}), 'consequent': '0', 'confidence': 0.8690191231383881}],\n       [{'antecedent': frozenset({'POTASSIUM CHLORIDE ER', 'DEXTROSE 50%-WATER', 'OXYCODONE IR'}), 'consequent': '0', 'confidence': 0.8614351881693202}],\n       [{'antecedent': frozenset({'POTASSIUM CHLORIDE ER', 'GLUCAGON'}), 'consequent': '0', 'confidence': 0.8059624510006189}],\n       ...,\n       [{'antecedent': frozenset({'MAGNESIUM SULF 2 G/50 ML NS', 'DEXTROSE 5%-NACL 0.9%', 'DEXTROSE 50%-WATER', 'HEPARIN 5,000 UNIT/ML'}), 'consequent': '0', 'confidence': 0.0008181384859458074}],\n       [{'antecedent': frozenset({'INSULIN LISPRO', 'DEXTROSE 5%-NACL 0.9%', 'DEXTROSE 50%-WATER', 'ACETAMINOPHEN'}), 'consequent': '0', 'confidence': 0.0007223980636752447}],\n       [{'antecedent': frozenset({'FUROSEMIDE', 'DEXTROSE 50%-WATER'}), 'consequent': '0', 'confidence': 0.00016241676140971162}]],\n      dtype=object)"
     },
     "execution_count": 9,
     "metadata": {},
     "output_type": "execute_result"
    }
   ],
   "source": [
    "import math\n",
    "\n",
    "rules_0 = [rule for rule in rules if rule['consequent'] == '0']\n",
    "rules_1 = [rule for rule in rules if rule['consequent'] == '1']\n",
    "sorted_rules = sorted(rules, key=lambda d: d['confidence'], reverse=True)\n",
    "freq_itemsets_count = sum([len(sublist) for sublist in freq_itemsets[:-1]])\n",
    "np.expand_dims(np.array(sorted_rules), axis=1)"
   ],
   "metadata": {
    "collapsed": false,
    "ExecuteTime": {
     "end_time": "2024-07-29T15:17:53.588234Z",
     "start_time": "2024-07-29T15:17:53.579233700Z"
    }
   }
  },
  {
   "cell_type": "code",
   "execution_count": 10,
   "outputs": [
    {
     "data": {
      "text/plain": "array([[0.        , 2.16821684],\n       [2.30965101, 0.        ],\n       [0.        , 0.        ],\n       [2.23158677, 0.        ],\n       [0.        , 0.        ],\n       [2.4176686 , 0.        ],\n       [2.52170779, 1.31631067],\n       [0.        , 0.        ],\n       [2.21186807, 0.        ],\n       [2.52170779, 1.31631067],\n       [2.53641676, 0.        ],\n       [2.28973158, 0.        ],\n       [0.        , 0.        ],\n       [2.4176686 , 2.16821684],\n       [0.        , 2.16821684],\n       [2.4176686 , 0.        ],\n       [0.        , 0.        ],\n       [2.36988863, 0.        ],\n       [2.28973158, 0.        ],\n       [2.53641676, 1.31631067],\n       [2.53641676, 0.        ],\n       [2.4176686 , 0.        ],\n       [0.        , 0.        ],\n       [2.53641676, 2.15909648],\n       [2.07876841, 0.        ],\n       [2.4176686 , 0.        ],\n       [2.28973158, 0.        ],\n       [2.15293508, 0.        ],\n       [2.25110664, 2.16821684],\n       [0.        , 0.        ],\n       [2.20034823, 0.        ],\n       [0.        , 0.        ],\n       [2.25110664, 2.15909648],\n       [2.28973158, 0.        ],\n       [2.4176686 , 0.        ],\n       [2.4176686 , 0.        ],\n       [2.53641676, 0.        ],\n       [0.        , 0.        ],\n       [2.53641676, 0.        ],\n       [2.52170779, 2.16821684],\n       [2.28973158, 2.16821684],\n       [0.        , 0.        ],\n       [0.        , 1.31631067],\n       [2.25110664, 0.        ],\n       [2.53641676, 0.        ],\n       [2.53641676, 0.        ],\n       [2.3295362 , 0.        ],\n       [2.46885713, 0.        ],\n       [2.53641676, 2.15909648],\n       [2.4176686 , 0.        ],\n       [0.        , 0.        ],\n       [2.46885713, 0.        ],\n       [2.51901313, 0.        ],\n       [2.48836742, 0.        ],\n       [2.28973158, 0.        ],\n       [2.36988863, 0.        ],\n       [0.        , 0.        ],\n       [2.52170779, 1.31631067],\n       [2.36167056, 0.        ],\n       [2.25110664, 1.31631067],\n       [2.28973158, 0.        ],\n       [2.28973158, 0.        ],\n       [2.25110664, 0.        ],\n       [2.4176686 , 0.        ],\n       [2.20034823, 0.        ],\n       [2.53641676, 1.31631067],\n       [2.28973158, 2.16821684],\n       [2.53641676, 0.        ],\n       [2.3483808 , 0.        ],\n       [2.53641676, 1.31631067],\n       [2.52170779, 1.31631067],\n       [0.        , 0.        ],\n       [2.21236575, 0.        ],\n       [2.28973158, 0.        ],\n       [2.11678134, 0.        ],\n       [2.24846579, 1.31631067],\n       [2.53641676, 0.        ],\n       [2.25110664, 0.        ],\n       [0.        , 0.        ],\n       [2.28973158, 0.        ],\n       [0.        , 2.15909648],\n       [2.28973158, 0.        ],\n       [0.        , 0.        ],\n       [2.28973158, 0.        ],\n       [2.36988863, 0.        ],\n       [2.2020013 , 0.        ],\n       [2.28973158, 2.16821684],\n       [2.18872862, 2.16821684],\n       [2.53641676, 0.        ],\n       [2.52170779, 1.31631067],\n       [2.18703162, 0.        ],\n       [0.        , 0.        ],\n       [0.        , 0.        ],\n       [2.52170779, 1.31631067],\n       [0.        , 0.        ],\n       [2.53641676, 0.        ],\n       [2.3483808 , 0.        ],\n       [0.        , 2.16821684],\n       [2.52170779, 1.31631067],\n       [2.36988863, 0.        ],\n       [2.4176686 , 0.        ],\n       [2.23817322, 0.        ],\n       [0.        , 0.        ],\n       [2.52170779, 1.31631067],\n       [2.19983802, 2.16821684],\n       [2.52170779, 0.        ],\n       [0.        , 0.        ],\n       [0.        , 0.        ],\n       [2.4176686 , 0.        ],\n       [0.        , 0.        ],\n       [0.        , 0.        ],\n       [0.        , 0.        ],\n       [2.33849812, 0.        ],\n       [2.4176686 , 0.        ],\n       [2.4176686 , 0.        ],\n       [2.21186807, 2.16821684],\n       [2.3276569 , 0.66038071],\n       [2.28973158, 2.16821684],\n       [2.53641676, 1.31631067],\n       [2.3483808 , 0.        ],\n       [2.28973158, 0.        ],\n       [2.30709815, 2.16821684],\n       [2.28973158, 2.16821684],\n       [2.53641676, 1.31631067],\n       [2.53641676, 2.16821684],\n       [2.2020013 , 0.        ],\n       [0.        , 0.        ],\n       [2.28973158, 0.        ],\n       [0.        , 0.        ],\n       [2.4176686 , 0.        ],\n       [2.3295362 , 0.        ],\n       [2.20034823, 0.        ],\n       [2.4176686 , 0.        ],\n       [2.52170779, 2.16821684],\n       [2.53641676, 1.31631067],\n       [2.53641676, 1.31631067],\n       [2.15751955, 2.16821684],\n       [2.53641676, 0.        ],\n       [2.51901313, 0.        ],\n       [2.51901313, 2.16821684],\n       [2.52170779, 2.16821684],\n       [2.23158677, 0.        ],\n       [2.53641676, 2.16821684],\n       [2.52170779, 1.31631067],\n       [2.53641676, 0.        ],\n       [0.        , 0.        ],\n       [2.4176686 , 0.        ],\n       [2.53641676, 0.        ],\n       [2.25110664, 0.        ],\n       [0.        , 1.31631067],\n       [2.36988863, 0.        ],\n       [2.36988863, 0.        ],\n       [2.52170779, 1.31631067],\n       [2.4176686 , 1.31631067],\n       [2.52170779, 1.31631067],\n       [2.19912049, 2.16821684],\n       [2.28973158, 0.        ],\n       [2.17275197, 0.        ],\n       [0.        , 0.        ],\n       [2.24225905, 0.66038071],\n       [2.28973158, 0.        ],\n       [2.52170779, 1.31631067],\n       [2.20034823, 0.        ],\n       [0.        , 0.        ],\n       [2.4176686 , 2.16821684],\n       [2.4176686 , 2.16821684],\n       [2.53641676, 2.16821684],\n       [2.4176686 , 0.        ],\n       [0.        , 0.        ],\n       [2.23817322, 1.31631067],\n       [2.4176686 , 0.        ],\n       [0.        , 0.        ],\n       [2.36988863, 0.        ],\n       [0.        , 0.        ],\n       [0.        , 2.16821684],\n       [2.20034823, 0.        ],\n       [2.53641676, 1.31631067],\n       [2.28973158, 0.        ],\n       [2.53641676, 0.        ],\n       [2.25110664, 0.        ],\n       [2.28973158, 0.        ],\n       [0.        , 0.        ],\n       [2.52170779, 1.31631067],\n       [2.25110664, 0.        ],\n       [2.18703162, 0.        ],\n       [0.        , 2.16821684],\n       [2.36988863, 0.        ],\n       [0.        , 0.        ],\n       [2.53641676, 1.31631067],\n       [2.4176686 , 2.16821684],\n       [2.53641676, 0.        ],\n       [2.17887268, 0.        ],\n       [2.52170779, 0.        ],\n       [0.        , 2.16821684],\n       [2.28973158, 0.        ],\n       [2.24418842, 0.        ],\n       [0.        , 0.        ],\n       [2.53641676, 1.31631067],\n       [0.        , 0.        ],\n       [2.28973158, 0.        ],\n       [2.28973158, 0.        ],\n       [2.4176686 , 0.        ],\n       [2.18703162, 0.        ],\n       [0.        , 2.16821684],\n       [2.35027036, 0.        ],\n       [0.        , 0.        ],\n       [0.        , 0.        ],\n       [2.33849812, 0.        ],\n       [0.        , 2.16821684],\n       [2.53641676, 0.        ],\n       [0.        , 0.        ],\n       [2.4176686 , 0.        ],\n       [2.53641676, 0.        ],\n       [2.4176686 , 0.        ],\n       [2.4176686 , 0.        ],\n       [2.28973158, 0.        ],\n       [2.28973158, 0.        ],\n       [2.28973158, 0.        ],\n       [2.20034823, 0.        ],\n       [2.44883142, 0.        ],\n       [2.53641676, 0.        ],\n       [2.4176686 , 0.        ],\n       [2.51901313, 0.        ],\n       [0.        , 0.        ],\n       [2.25110664, 0.        ],\n       [2.20034823, 1.31631067],\n       [2.48930651, 2.16821684],\n       [0.        , 0.        ],\n       [2.53641676, 0.        ],\n       [0.        , 2.15909648],\n       [2.52170779, 2.15909648],\n       [2.23875368, 0.        ],\n       [2.52170779, 1.31631067],\n       [2.53641676, 1.31631067],\n       [2.36988863, 0.        ],\n       [0.        , 0.        ],\n       [2.4176686 , 2.16821684],\n       [0.        , 0.        ],\n       [2.53641676, 1.31631067],\n       [2.28973158, 0.        ],\n       [2.36988863, 0.        ],\n       [2.15569303, 1.31631067],\n       [2.28973158, 0.        ],\n       [0.        , 0.        ],\n       [2.19983802, 0.        ],\n       [2.36988863, 2.16821684],\n       [2.19912049, 0.        ],\n       [0.        , 0.        ],\n       [2.28973158, 0.        ],\n       [2.4176686 , 0.        ],\n       [2.4176686 , 0.        ],\n       [2.4176686 , 0.        ],\n       [2.52170779, 1.31631067],\n       [2.36167056, 0.        ],\n       [0.        , 0.        ],\n       [2.44883142, 0.66038071],\n       [2.3483808 , 0.        ],\n       [2.21499099, 0.        ],\n       [0.        , 1.31631067],\n       [2.4176686 , 0.        ],\n       [2.53641676, 2.16821684],\n       [2.21186807, 0.        ],\n       [0.        , 0.        ],\n       [2.21186807, 0.        ],\n       [2.4176686 , 0.        ],\n       [2.36167056, 2.16821684],\n       [0.        , 0.        ],\n       [2.3483808 , 0.        ],\n       [2.4176686 , 2.16821684],\n       [0.69016796, 0.        ],\n       [2.4176686 , 0.        ],\n       [0.        , 0.        ],\n       [2.52170779, 1.31631067],\n       [2.28973158, 2.16821684],\n       [2.20034823, 2.16821684],\n       [0.        , 2.16821684],\n       [2.4176686 , 0.        ],\n       [2.48836742, 0.        ],\n       [2.4176686 , 0.        ],\n       [2.28973158, 0.        ],\n       [2.20526649, 0.        ],\n       [0.        , 0.        ],\n       [2.36988863, 0.        ],\n       [0.        , 2.16821684],\n       [0.        , 1.31631067],\n       [2.28973158, 0.        ],\n       [2.28973158, 0.        ],\n       [2.53641676, 1.31631067],\n       [2.4176686 , 0.        ],\n       [2.11359343, 0.        ],\n       [0.        , 0.        ],\n       [2.21295235, 0.        ],\n       [2.23817322, 0.        ],\n       [2.4176686 , 0.        ],\n       [2.36167056, 0.        ],\n       [0.        , 2.16821684],\n       [2.17314752, 0.        ],\n       [2.23817322, 0.        ],\n       [2.52170779, 0.        ],\n       [2.25110664, 2.16821684],\n       [2.4176686 , 0.        ],\n       [2.21186807, 0.        ],\n       [2.53641676, 0.        ],\n       [2.4176686 , 2.16575883],\n       [2.4176686 , 0.        ],\n       [2.10637001, 0.        ],\n       [2.28973158, 0.        ],\n       [2.4176686 , 2.16821684],\n       [2.53641676, 1.31631067],\n       [2.52170779, 1.31631067],\n       [2.28973158, 0.        ],\n       [2.52170779, 1.31631067],\n       [0.        , 0.        ],\n       [2.4176686 , 0.        ],\n       [2.4176686 , 0.        ],\n       [2.25110664, 0.        ],\n       [2.25110664, 1.31631067],\n       [2.23158677, 0.        ],\n       [2.53641676, 2.16821684],\n       [2.26974188, 0.        ],\n       [2.28973158, 0.        ],\n       [2.52170779, 1.31631067],\n       [2.36988863, 0.        ],\n       [0.        , 2.16821684],\n       [2.15293508, 0.        ],\n       [0.        , 0.        ],\n       [2.53641676, 1.31631067],\n       [2.3483808 , 0.        ],\n       [0.        , 0.        ],\n       [2.15293508, 0.        ],\n       [2.20134355, 2.16821684],\n       [2.53641676, 0.        ],\n       [0.        , 0.        ],\n       [2.28973158, 2.16821684],\n       [2.52170779, 1.31631067],\n       [2.23158677, 0.        ],\n       [2.20034823, 0.        ],\n       [2.20034823, 0.        ],\n       [0.        , 0.        ],\n       [2.4176686 , 0.        ],\n       [2.53641676, 2.15909648],\n       [2.4176686 , 0.        ],\n       [2.52170779, 1.31631067],\n       [0.        , 0.        ],\n       [2.44883142, 0.        ],\n       [2.19983802, 0.        ],\n       [2.4176686 , 0.        ],\n       [2.20034823, 2.16821684],\n       [2.36988863, 0.        ],\n       [0.        , 2.15909648],\n       [2.51901313, 0.        ],\n       [2.53641676, 1.31631067],\n       [2.53641676, 2.16821684],\n       [2.28973158, 0.        ],\n       [2.52170779, 1.31631067],\n       [2.23158677, 0.        ],\n       [2.28973158, 2.16821684],\n       [2.36988863, 1.31631067],\n       [2.4176686 , 0.        ],\n       [0.        , 1.43989717],\n       [2.20034823, 0.        ],\n       [2.4176686 , 0.        ],\n       [2.17887268, 0.        ],\n       [2.36988863, 0.        ],\n       [0.        , 0.66038071],\n       [2.3295362 , 0.        ],\n       [2.35178788, 2.16821684],\n       [2.4176686 , 0.        ],\n       [2.19303213, 0.        ],\n       [2.23158677, 0.        ],\n       [2.4176686 , 0.        ],\n       [2.4176686 , 0.        ],\n       [2.28973158, 2.16821684],\n       [2.28973158, 0.        ],\n       [2.4176686 , 0.        ],\n       [1.39102674, 0.        ],\n       [2.36988863, 2.16821684],\n       [2.18472693, 2.16821684],\n       [2.28973158, 0.        ],\n       [2.06323167, 0.        ],\n       [2.27431723, 0.        ],\n       [2.23158677, 0.        ],\n       [1.48434593, 0.        ],\n       [2.17887268, 0.        ],\n       [2.53641676, 2.16821684],\n       [0.        , 1.44075211],\n       [2.53641676, 0.        ],\n       [2.4176686 , 0.        ],\n       [2.51079506, 0.        ],\n       [2.53641676, 0.        ],\n       [2.3295362 , 0.        ],\n       [2.28973158, 1.43989717],\n       [2.08896999, 0.        ],\n       [2.21259835, 0.        ],\n       [2.46784538, 0.        ],\n       [0.        , 0.        ],\n       [2.53641676, 0.        ],\n       [2.28968817, 2.16821684],\n       [2.1793717 , 0.        ],\n       [2.4176686 , 0.        ],\n       [0.        , 0.        ],\n       [0.        , 0.        ],\n       [2.19983802, 1.31631067],\n       [0.        , 2.16821684],\n       [2.51901313, 1.31631067],\n       [2.4176686 , 2.16821684],\n       [2.09196815, 1.31631067],\n       [2.19983802, 2.16821684],\n       [2.4176686 , 1.31631067],\n       [2.18328883, 0.        ],\n       [0.        , 2.15909648],\n       [2.52170779, 1.31631067],\n       [0.        , 2.15909648],\n       [2.20034823, 0.        ],\n       [0.        , 0.        ],\n       [2.18104827, 0.        ],\n       [2.428036  , 2.16821684],\n       [2.35178788, 1.31631067],\n       [0.        , 2.16821684],\n       [0.        , 2.16821684],\n       [2.09196815, 2.16821684],\n       [0.        , 2.15909648],\n       [2.51901313, 2.16821684],\n       [0.        , 1.31631067],\n       [2.18703162, 2.16821684],\n       [0.        , 2.16821684],\n       [0.        , 0.        ],\n       [2.3295362 , 2.16821684],\n       [0.        , 2.16821684],\n       [0.        , 1.31631067],\n       [0.        , 2.16821684],\n       [0.        , 2.16821684],\n       [2.26974188, 2.16821684],\n       [0.        , 2.16821684],\n       [0.        , 2.16821684],\n       [2.16613732, 0.        ],\n       [0.        , 2.16821684],\n       [0.        , 2.16821684],\n       [0.        , 2.16821684],\n       [0.        , 2.16821684],\n       [0.        , 1.31631067],\n       [0.        , 2.16821684],\n       [0.        , 2.16821684],\n       [0.        , 1.31631067],\n       [2.51901313, 0.        ],\n       [0.        , 2.16821684],\n       [2.4176686 , 1.31631067],\n       [0.        , 0.        ],\n       [0.        , 2.16821684],\n       [0.        , 0.        ],\n       [0.        , 2.16821684],\n       [0.        , 2.16821684],\n       [2.36167056, 0.        ],\n       [0.        , 2.16821684],\n       [2.3295362 , 1.31631067],\n       [0.        , 2.16821684],\n       [2.28973158, 0.        ],\n       [0.        , 0.        ],\n       [0.        , 0.        ],\n       [2.51079506, 2.16821684]])"
     },
     "execution_count": 10,
     "metadata": {},
     "output_type": "execute_result"
    }
   ],
   "source": [
    "def predict_proba(object_o, rules_set):\n",
    "    best_k = 3\n",
    "    scores = [0, 0]\n",
    "    count_0 = 0\n",
    "    count_1 = 0\n",
    "    for rule in rules_set:\n",
    "        if (rule['antecedent']).issubset(object_o):\n",
    "            if count_0 < best_k and rule['consequent'] == '0':\n",
    "                count_0 += 1\n",
    "                scores[0] += rule['confidence']\n",
    "            elif count_1 < best_k and rule['consequent'] == '1':\n",
    "                count_1 += 1\n",
    "                scores[1] += rule['confidence']\n",
    "        elif count_0 >= best_k and count_1 >= best_k:\n",
    "            break\n",
    "    return scores\n",
    "\n",
    "sorted_rules = sorted(rules, key=lambda d: d['confidence'], reverse=True)\n",
    "sorted_rules = sorted_rules[:math.floor(freq_itemsets_count * 0.18) + 1]\n",
    "test_transactions = test_set.drop(['1', '0'], axis=1).apply(lambda row: frozenset(row.index[row]), axis=1).tolist()\n",
    "scores = [predict_proba(object_o, sorted_rules) for object_o in test_transactions]\n",
    "scores = np.array(scores)\n",
    "scores"
   ],
   "metadata": {
    "collapsed": false,
    "ExecuteTime": {
     "end_time": "2024-07-29T15:17:58.894784600Z",
     "start_time": "2024-07-29T15:17:58.855784200Z"
    }
   }
  },
  {
   "cell_type": "code",
   "execution_count": 11,
   "outputs": [
    {
     "data": {
      "text/plain": "array([1, 0, 0, 0, 0, 0, 0, 0, 0, 0, 0, 0, 0, 0, 1, 0, 0, 0, 0, 0, 0, 0,\n       0, 0, 0, 0, 0, 0, 0, 0, 0, 0, 0, 0, 0, 0, 0, 0, 0, 0, 0, 0, 1, 0,\n       0, 0, 0, 0, 0, 0, 0, 0, 0, 0, 0, 0, 0, 0, 0, 0, 0, 0, 0, 0, 0, 0,\n       0, 0, 0, 0, 0, 0, 0, 0, 0, 0, 0, 0, 0, 0, 1, 0, 0, 0, 0, 0, 0, 0,\n       0, 0, 0, 0, 0, 0, 0, 0, 0, 1, 0, 0, 0, 0, 0, 0, 0, 0, 0, 0, 0, 0,\n       0, 0, 0, 0, 0, 0, 0, 0, 0, 0, 0, 0, 0, 0, 0, 0, 0, 0, 0, 0, 0, 0,\n       0, 0, 0, 0, 1, 0, 0, 0, 0, 0, 0, 0, 0, 0, 0, 0, 0, 1, 0, 0, 0, 0,\n       0, 0, 0, 0, 0, 0, 0, 0, 0, 0, 0, 0, 0, 0, 0, 0, 0, 0, 0, 0, 1, 0,\n       0, 0, 0, 0, 0, 0, 0, 0, 0, 1, 0, 0, 0, 0, 0, 0, 0, 1, 0, 0, 0, 0,\n       0, 0, 0, 0, 0, 1, 0, 0, 0, 0, 1, 0, 0, 0, 0, 0, 0, 0, 0, 0, 0, 0,\n       0, 0, 0, 0, 0, 0, 0, 0, 0, 1, 0, 0, 0, 0, 0, 0, 0, 0, 0, 0, 0, 0,\n       0, 0, 0, 0, 0, 0, 0, 0, 0, 0, 0, 0, 0, 0, 0, 0, 1, 0, 0, 0, 0, 0,\n       0, 0, 0, 0, 0, 0, 0, 0, 0, 0, 0, 1, 0, 0, 0, 0, 0, 0, 0, 1, 1, 0,\n       0, 0, 0, 0, 0, 0, 0, 0, 0, 1, 0, 0, 0, 0, 0, 0, 0, 0, 0, 0, 0, 0,\n       0, 0, 0, 0, 0, 0, 0, 0, 0, 0, 0, 0, 0, 0, 0, 1, 0, 0, 0, 0, 0, 0,\n       0, 0, 0, 0, 0, 0, 0, 0, 0, 0, 0, 0, 0, 0, 0, 0, 0, 0, 0, 1, 0, 0,\n       0, 0, 0, 0, 0, 0, 0, 1, 0, 0, 0, 0, 1, 0, 0, 0, 0, 0, 0, 0, 0, 0,\n       0, 0, 0, 0, 0, 0, 0, 0, 0, 0, 0, 1, 0, 0, 0, 0, 0, 0, 0, 0, 0, 0,\n       0, 0, 0, 0, 0, 0, 0, 1, 0, 0, 0, 0, 0, 0, 1, 0, 1, 0, 0, 0, 0, 0,\n       1, 1, 1, 1, 0, 1, 0, 1, 0, 0, 1, 1, 1, 1, 0, 1, 1, 0, 1, 1, 1, 1,\n       1, 1, 1, 1, 0, 1, 0, 0, 1, 0, 1, 1, 0, 1, 0, 1, 0, 0, 0, 0])"
     },
     "execution_count": 11,
     "metadata": {},
     "output_type": "execute_result"
    }
   ],
   "source": [
    "y_test = test_set.apply(lambda row: 0 if row['0'] else 1, axis=1).tolist()\n",
    "y_test = np.array(y_test)\n",
    "y_pred = np.where(scores[:, 0] >= scores[:, 1], 0, 1)\n",
    "y_pred[(scores[:, 0] == 0) & (scores[:, 1] == 0)] = -1\n",
    "not_classified = np.sum(y_pred == -1)\n",
    "y_pred[y_pred == -1] = 0\n",
    "y_pred"
   ],
   "metadata": {
    "collapsed": false,
    "ExecuteTime": {
     "end_time": "2024-07-29T15:18:05.326549300Z",
     "start_time": "2024-07-29T15:18:05.304550400Z"
    }
   }
  },
  {
   "cell_type": "code",
   "execution_count": 12,
   "outputs": [
    {
     "name": "stdout",
     "output_type": "stream",
     "text": [
      "Pred as -1: 66\n",
      "Precision: 0.5\n",
      "Recall: 0.605\n",
      "F1: 0.547368\n",
      "roc auc: 0.7737437956611456\n",
      "Accuracy: 90.652%\n",
      "Total Rules: 229\n",
      "Number of freq itemsets: 1269\n",
      "Rules with class 0: 771\n",
      "Rules with class 1: 498\n",
      "Avg rule conf: 0.718\n",
      "Max rule conf: 0.869\n",
      "Min rule conf: 0.656\n",
      "\n",
      "Avg conf for c0 rules: 0.718\n",
      "Max conf for c0 rules: 0.869\n",
      "Min conf for c0 rules: 0.656\n",
      "Avg conf for c1 rules: 0.708\n",
      "Max conf for c1 rules: 0.724\n",
      "Min conf for c1 rules: 0.656\n"
     ]
    }
   ],
   "source": [
    "TP = np.sum(np.logical_and(y_pred == 1, y_test == 1))\n",
    "TN = np.sum(np.logical_and(y_pred == 0, y_test == 0))\n",
    "FP = np.sum(np.logical_and(y_pred == 1, y_test == 0))\n",
    "FN = np.sum(np.logical_and(y_pred == 0, y_test == 1))\n",
    "precision = TP / (TP + FP)\n",
    "recall = TP / (TP + FN)\n",
    "F1 = 2 * recall * precision / (recall + precision)\n",
    "roc_auc = roc_auc_score(y_test, scores[:, 1])\n",
    "accuracy = 100 * np.sum(y_test == y_pred) / len(y_test)\n",
    "print(f\"Pred as -1: {not_classified}\")\n",
    "print(f\"Precision: {round(precision, 3)}\")\n",
    "print(f\"Recall: {round(recall, 3)}\")\n",
    "print(f\"F1: {round(F1, 6)}\")\n",
    "print(f\"roc auc: {roc_auc}\")\n",
    "print(f\"Accuracy: {round(accuracy, 3)}%\")\n",
    "print(f\"Total Rules: {len(sorted_rules)}\")\n",
    "print(f\"Number of freq itemsets: {freq_itemsets_count}\")\n",
    "print(f\"Rules with class 0: {len(rules_0)}\")\n",
    "print(f\"Rules with class 1: {len(rules_1)}\")\n",
    "print(f\"Avg rule conf: {round(sum(rule['confidence'] for rule in sorted_rules) / len(sorted_rules), 3)}\")\n",
    "print(f\"Max rule conf: {round(sorted_rules[0]['confidence'], 3)}\")\n",
    "print(f\"Min rule conf: {round(sorted_rules[-1]['confidence'], 3)}\\n\")\n",
    "sorted_0 = [rule for rule in sorted_rules if rule['consequent'] == '0']\n",
    "sorted_1 = [rule for rule in sorted_rules if rule['consequent'] == '1']\n",
    "try:\n",
    "    print(f\"Avg conf for c0 rules: {round(sum(rule['confidence'] for rule in sorted_0) / len(sorted_0), 3)}\")\n",
    "    print(f\"Max conf for c0 rules: {round(sorted_0[0]['confidence'], 3)}\")\n",
    "    print(f\"Min conf for c0 rules: {round(sorted_0[-1]['confidence'], 3)}\")\n",
    "    print(f\"Avg conf for c1 rules: {round(sum(rule['confidence'] for rule in sorted_1) / len(sorted_1), 3)}\")\n",
    "    print(f\"Max conf for c1 rules: {round(sorted_1[0]['confidence'], 3)}\")\n",
    "    print(f\"Min conf for c1 rules: {round(sorted_1[-1]['confidence'], 3)}\")\n",
    "except Exception:\n",
    "    pass"
   ],
   "metadata": {
    "collapsed": false,
    "ExecuteTime": {
     "end_time": "2024-07-29T15:18:06.863856900Z",
     "start_time": "2024-07-29T15:18:06.857857100Z"
    }
   }
  },
  {
   "cell_type": "code",
   "execution_count": null,
   "outputs": [],
   "source": [],
   "metadata": {
    "collapsed": false
   }
  }
 ],
 "metadata": {
  "kernelspec": {
   "name": "mlkernel",
   "language": "python",
   "display_name": "ML Kernel"
  },
  "language_info": {
   "codemirror_mode": {
    "name": "ipython",
    "version": 2
   },
   "file_extension": ".py",
   "mimetype": "text/x-python",
   "name": "python",
   "nbconvert_exporter": "python",
   "pygments_lexer": "ipython2",
   "version": "2.7.6"
  }
 },
 "nbformat": 4,
 "nbformat_minor": 0
}
